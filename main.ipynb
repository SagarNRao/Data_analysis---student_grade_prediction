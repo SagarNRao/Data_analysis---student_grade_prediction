{
 "cells": [
  {
   "cell_type": "code",
   "execution_count": 22,
   "metadata": {},
   "outputs": [],
   "source": [
    "import pandas as pd\n",
    "student_data = pd.read_csv('student_details_csv.csv')"
   ]
  },
  {
   "cell_type": "code",
   "execution_count": 23,
   "metadata": {},
   "outputs": [],
   "source": [
    "features = ['Gender', 'Degree', 'Income', 'Family_size ', 'Objective', 'Study_pattern', 'Time_spent_pattern', 'Extra_curricular_activity', 'Paused_resumed']"
   ]
  },
  {
   "cell_type": "code",
   "execution_count": 24,
   "metadata": {},
   "outputs": [
    {
     "data": {
      "text/html": [
       "<div>\n",
       "<style scoped>\n",
       "    .dataframe tbody tr th:only-of-type {\n",
       "        vertical-align: middle;\n",
       "    }\n",
       "\n",
       "    .dataframe tbody tr th {\n",
       "        vertical-align: top;\n",
       "    }\n",
       "\n",
       "    .dataframe thead th {\n",
       "        text-align: right;\n",
       "    }\n",
       "</style>\n",
       "<table border=\"1\" class=\"dataframe\">\n",
       "  <thead>\n",
       "    <tr style=\"text-align: right;\">\n",
       "      <th></th>\n",
       "      <th>Reg_no</th>\n",
       "      <th>Gender</th>\n",
       "      <th>Degree</th>\n",
       "      <th>Tenth_marks</th>\n",
       "      <th>Eleventh_marks</th>\n",
       "      <th>Twelfth_marks</th>\n",
       "      <th>Income</th>\n",
       "      <th>Family_size</th>\n",
       "      <th>Objective</th>\n",
       "      <th>Study_pattern</th>\n",
       "      <th>Time_spent_pattern</th>\n",
       "      <th>Extra_curricular_activity</th>\n",
       "      <th>Paused_resumed</th>\n",
       "    </tr>\n",
       "  </thead>\n",
       "  <tbody>\n",
       "    <tr>\n",
       "      <th>0</th>\n",
       "      <td>st101</td>\n",
       "      <td>Female</td>\n",
       "      <td>II PU/12th</td>\n",
       "      <td>90.8</td>\n",
       "      <td>91.1</td>\n",
       "      <td>93.6</td>\n",
       "      <td>Upper middle income ( 1,00,000 - 2,00,000)</td>\n",
       "      <td>3</td>\n",
       "      <td>Yes, clear and specific.</td>\n",
       "      <td>4-6 days/week</td>\n",
       "      <td>3-4 hrs</td>\n",
       "      <td>Sports and Physical Activities</td>\n",
       "      <td>Paused and resumed due to academics.</td>\n",
       "    </tr>\n",
       "    <tr>\n",
       "      <th>1</th>\n",
       "      <td>st102</td>\n",
       "      <td>Male</td>\n",
       "      <td>II PU/12th</td>\n",
       "      <td>88.5</td>\n",
       "      <td>93</td>\n",
       "      <td>94.3</td>\n",
       "      <td>Upper middle income ( 1,00,000 - 2,00,000)</td>\n",
       "      <td>4</td>\n",
       "      <td>Not specific enough.</td>\n",
       "      <td>2-3 days/week</td>\n",
       "      <td>1-2 hrs</td>\n",
       "      <td>Sports and Physical Activities</td>\n",
       "      <td>Completely stopped because of academics.</td>\n",
       "    </tr>\n",
       "    <tr>\n",
       "      <th>2</th>\n",
       "      <td>st103</td>\n",
       "      <td>Female</td>\n",
       "      <td>II PU/12th</td>\n",
       "      <td>98.8</td>\n",
       "      <td>97.3</td>\n",
       "      <td>97.8</td>\n",
       "      <td>Middle income (50,000 - 1,00, 000)</td>\n",
       "      <td>4</td>\n",
       "      <td>Yes, clear and specific.</td>\n",
       "      <td>Everyday</td>\n",
       "      <td>2-3 hrs</td>\n",
       "      <td>Others</td>\n",
       "      <td>Paused and resumed due to academics.</td>\n",
       "    </tr>\n",
       "    <tr>\n",
       "      <th>3</th>\n",
       "      <td>st104</td>\n",
       "      <td>Female</td>\n",
       "      <td>II PU/12th</td>\n",
       "      <td>90.8</td>\n",
       "      <td>96</td>\n",
       "      <td>92.0</td>\n",
       "      <td>High income ( &gt;  2,00,000)</td>\n",
       "      <td>6</td>\n",
       "      <td>Yes, clear and specific.</td>\n",
       "      <td>4-6 days/week</td>\n",
       "      <td>2-3 hrs</td>\n",
       "      <td>Arts and Culture</td>\n",
       "      <td>Paused and resumed due to academics.</td>\n",
       "    </tr>\n",
       "    <tr>\n",
       "      <th>4</th>\n",
       "      <td>st105</td>\n",
       "      <td>Male</td>\n",
       "      <td>II PU/12th</td>\n",
       "      <td>90.6</td>\n",
       "      <td>91</td>\n",
       "      <td>96.0</td>\n",
       "      <td>Upper middle income ( 1,00,000 - 2,00,000)</td>\n",
       "      <td>5</td>\n",
       "      <td>Not specific enough.</td>\n",
       "      <td>2-3 days/week</td>\n",
       "      <td>1-2 hrs</td>\n",
       "      <td>Sports and Physical Activities</td>\n",
       "      <td>Paused and resumed due to academics.</td>\n",
       "    </tr>\n",
       "  </tbody>\n",
       "</table>\n",
       "</div>"
      ],
      "text/plain": [
       "  Reg_no  Gender      Degree  Tenth_marks Eleventh_marks  Twelfth_marks  \\\n",
       "0  st101  Female  II PU/12th         90.8           91.1           93.6   \n",
       "1  st102    Male  II PU/12th         88.5             93           94.3   \n",
       "2  st103  Female  II PU/12th         98.8           97.3           97.8   \n",
       "3  st104  Female  II PU/12th         90.8             96           92.0   \n",
       "4  st105    Male  II PU/12th         90.6             91           96.0   \n",
       "\n",
       "                                       Income Family_size   \\\n",
       "0  Upper middle income ( 1,00,000 - 2,00,000)            3   \n",
       "1  Upper middle income ( 1,00,000 - 2,00,000)            4   \n",
       "2          Middle income (50,000 - 1,00, 000)            4   \n",
       "3                  High income ( >  2,00,000)            6   \n",
       "4  Upper middle income ( 1,00,000 - 2,00,000)            5   \n",
       "\n",
       "                  Objective  Study_pattern Time_spent_pattern  \\\n",
       "0  Yes, clear and specific.  4-6 days/week            3-4 hrs   \n",
       "1      Not specific enough.  2-3 days/week            1-2 hrs   \n",
       "2  Yes, clear and specific.       Everyday            2-3 hrs   \n",
       "3  Yes, clear and specific.  4-6 days/week            2-3 hrs   \n",
       "4      Not specific enough.  2-3 days/week            1-2 hrs   \n",
       "\n",
       "        Extra_curricular_activity                            Paused_resumed  \n",
       "0  Sports and Physical Activities      Paused and resumed due to academics.  \n",
       "1  Sports and Physical Activities  Completely stopped because of academics.  \n",
       "2                          Others      Paused and resumed due to academics.  \n",
       "3                Arts and Culture      Paused and resumed due to academics.  \n",
       "4  Sports and Physical Activities      Paused and resumed due to academics.  "
      ]
     },
     "execution_count": 24,
     "metadata": {},
     "output_type": "execute_result"
    }
   ],
   "source": [
    "#cleaning by dropping rows with missing values\n",
    "student_data_cleaned = student_data.copy()\n",
    "\n",
    "#family size\n",
    "student_data_cleaned['Family_size '] = student_data_cleaned['Family_size '].apply(lambda x: 6 if x == 'above 5' else x )\n",
    "student_data_cleaned.to_csv('cleaned.csv', index=False)\n",
    "student_data_cleaned.head()\n"
   ]
  },
  {
   "cell_type": "code",
   "execution_count": 25,
   "metadata": {},
   "outputs": [],
   "source": [
    "import pandas as pd\n",
    "import numpy as np\n",
    "import matplotlib.pyplot as plt\n",
    "import seaborn as sns"
   ]
  },
  {
   "cell_type": "code",
   "execution_count": 26,
   "metadata": {},
   "outputs": [
    {
     "data": {
      "image/png": "[encoded data removed]",
      "text/plain": [
       "<Figure size 1000x500 with 1 Axes>"
      ]
     },
     "metadata": {},
     "output_type": "display_data"
    }
   ],
   "source": [
    "plt.figure(figsize=(10, 5))\n",
    "sns.scatterplot(x='Family_size ', y='Twelfth_marks', data=student_data)\n",
    "plt.title('Relationship between Family size and Academic Performance')\n",
    "plt.show()\n",
    "#shows that when the family is big the performance drops"
   ]
  },
  {
   "cell_type": "code",
   "execution_count": 27,
   "metadata": {},
   "outputs": [
    {
     "data": {
      "image/png": "[encoded data removed]",
      "text/plain": [
       "<Figure size 1000x500 with 2 Axes>"
      ]
     },
     "metadata": {},
     "output_type": "display_data"
    }
   ],
   "source": [
    "data = student_data_cleaned\n",
    "data.dropna(inplace=True)\n",
    "data['Size_of_family'] = data['Family_size '].astype('category').cat.codes\n",
    "# Select only relevant numerical columns for correlation matrix\n",
    "correlation_data = data[['Tenth_marks', 'Twelfth_marks', 'Size_of_family']]\n",
    "correlation_matrix = correlation_data.corr()\n",
    "plt.figure(figsize=(10, 5))\n",
    "sns.heatmap(correlation_matrix, annot=True, cmap='coolwarm')\n",
    "plt.title('Correlation Heatmap')\n",
    "plt.show()"
   ]
  },
  {
   "cell_type": "code",
   "execution_count": null,
   "metadata": {},
   "outputs": [],
   "source": []
  },
  {
   "cell_type": "code",
   "execution_count": 34,
   "metadata": {},
   "outputs": [
    {
     "name": "stdout",
     "output_type": "stream",
     "text": [
      "Mean Absolute Error:      3.277233960331111\n",
      "Mean Squared Error:       20.33802350906044\n",
      "Root Mean Squared Error:  4.509769784485727\n",
      "R Squared Error:          0.3440003160775581\n",
      "\n",
      "Coefficients:  [0.54941178 1.0315936 ]\n",
      "Intercept:  -5.689683176125769\n"
     ]
    }
   ],
   "source": [
    "from sklearn.model_selection import train_test_split\n",
    "from sklearn.linear_model import LinearRegression\n",
    "from sklearn.metrics import mean_absolute_error, mean_squared_error, r2_score\n",
    "import numpy as np\n",
    "\n",
    "# Define X and y\n",
    "X = data[['Family_size ', 'Tenth_marks']] #independent values - predictors\n",
    "y = data['Twelfth_marks'] #dependent values - response\n",
    "\n",
    "# to see if people with bigger family size have lower marks - theyd be busy with taking care of the siblings but if the family income is higher - they can afford to hire help and focus on studies\n",
    "\n",
    "# Split the data into training and testing sets\n",
    "X_train, X_test, y_train, y_test = train_test_split(X, y, test_size=0.2, random_state=42)\n",
    "\n",
    "# Create a linear regression model\n",
    "model = LinearRegression()\n",
    "\n",
    "# Fit the model on the training data\n",
    "model.fit(X_train, y_train)\n",
    "\n",
    "# Make predictions on the test data\n",
    "predictions = model.predict(X_test)\n",
    "\n",
    "# Evaluate the model\n",
    "mae = mean_absolute_error(y_test, predictions)\n",
    "mse = mean_squared_error(y_test, predictions)\n",
    "rmse = np.sqrt(mse)\n",
    "r2 = r2_score(y_test, predictions)\n",
    "\n",
    "print(\"Mean Absolute Error:     \", mae)\n",
    "print(\"Mean Squared Error:      \", mse)\n",
    "print(\"Root Mean Squared Error: \", rmse)\n",
    "print(\"R Squared Error:         \", r2)\n",
    "print(\"\")\n",
    "# Print model coefficients\n",
    "print(\"Coefficients: \", model.coef_)\n",
    "print(\"Intercept: \", model.intercept_)"
   ]
  },
  {
   "cell_type": "code",
   "execution_count": 7,
   "metadata": {},
   "outputs": [
    {
     "name": "stdout",
     "output_type": "stream",
     "text": [
      "\n",
      "Linear Regression Summary:\n",
      "                             OLS Regression Results                            \n",
      "==============================================================================\n",
      "Dep. Variable:          Twelfth_marks   R-squared:                       0.583\n",
      "Model:                            OLS   Adj. R-squared:                  0.571\n",
      "Method:                 Least Squares   F-statistic:                     49.59\n",
      "Date:                Sun, 28 Jul 2024   Prob (F-statistic):           3.33e-14\n",
      "Time:                        18:13:51   Log-Likelihood:                -215.23\n",
      "No. Observations:                  74   AIC:                             436.5\n",
      "Df Residuals:                      71   BIC:                             443.4\n",
      "Df Model:                           2                                         \n",
      "Covariance Type:            nonrobust                                         \n",
      "==================================================================================\n",
      "                     coef    std err          t      P>|t|      [0.025      0.975]\n",
      "----------------------------------------------------------------------------------\n",
      "Intercept         -3.3052      9.719     -0.340      0.735     -22.685      16.074\n",
      "Size_of_family    -0.0147      0.623     -0.024      0.981      -1.256       1.227\n",
      "Tenth_marks        1.0315      0.105      9.862      0.000       0.823       1.240\n",
      "==============================================================================\n",
      "Omnibus:                       24.271   Durbin-Watson:                   2.094\n",
      "Prob(Omnibus):                  0.000   Jarque-Bera (JB):               39.602\n",
      "Skew:                          -1.256   Prob(JB):                     2.51e-09\n",
      "Kurtosis:                       5.556   Cond. No.                     1.73e+03\n",
      "==============================================================================\n",
      "\n",
      "Notes:\n",
      "[1] Standard Errors assume that the covariance matrix of the errors is correctly specified.\n",
      "[2] The condition number is large, 1.73e+03. This might indicate that there are\n",
      "strong multicollinearity or other numerical problems.\n"
     ]
    }
   ],
   "source": [
    "from statsmodels.formula.api import ols\n",
    "data['Study_pattern'] = data['Study_pattern'].astype('category').cat.codes\n",
    "model = ols('Twelfth_marks ~ Size_of_family + Tenth_marks', data=data).fit()\n",
    "print(\"\\nLinear Regression Summary:\\n\", model.summary())"
   ]
  },
  {
   "cell_type": "code",
   "execution_count": 8,
   "metadata": {},
   "outputs": [],
   "source": [
    "from sklearn.metrics import mean_absolute_error, mean_squared_error, r2_score"
   ]
  },
  {
   "cell_type": "code",
   "execution_count": 9,
   "metadata": {},
   "outputs": [],
   "source": [
    "# Convert categorical columns to numeric codes for regression and training\n",
    "data['Family_size_result'] = data['Family_size '].astype('category').cat.codes\n",
    "X = data[['Family_size_result', 'Tenth_marks']] #independent values - predictors\n",
    "y = data['Twelfth_marks'] #dependent values - response\n",
    "\n",
    "model = ols('Twelfth_marks ~ Family_size_result + Tenth_marks', data=data).fit()"
   ]
  },
  {
   "cell_type": "code",
   "execution_count": 10,
   "metadata": {},
   "outputs": [],
   "source": [
    "data['Predicted_Twelfth_marks'] = model.predict(X)"
   ]
  },
  {
   "cell_type": "code",
   "execution_count": 11,
   "metadata": {},
   "outputs": [
    {
     "name": "stdout",
     "output_type": "stream",
     "text": [
      "Mean Absolute Error:      3.1508930994456463\n",
      "Mean Sqaured Error:       19.67276979982367\n",
      "Root Mean Squared Error:  4.435399621209307\n",
      "R Squared Error:          0.5827907247371016\n"
     ]
    }
   ],
   "source": [
    "# Calculate the regression metrics\n",
    "mae = mean_absolute_error(y, data['Predicted_Twelfth_marks'])\n",
    "mse = mean_squared_error(y, data['Predicted_Twelfth_marks'])\n",
    "rmse = np.sqrt(mse)\n",
    "r2 = r2_score(y, data['Predicted_Twelfth_marks'])\n",
    "print(\"Mean Absolute Error:     \",mae)\n",
    "print(\"Mean Sqaured Error:      \",mse)\n",
    "print(\"Root Mean Squared Error: \",rmse)\n",
    "print(\"R Squared Error:         \",r2)"
   ]
  },
  {
   "cell_type": "code",
   "execution_count": null,
   "metadata": {},
   "outputs": [],
   "source": [
    "import matplotlib.pyplot as plt  \n",
    "import seaborn as sns  \n",
    "\n",
    "plt.figure(figsize=(10, 5))  \n",
    "sns.scatterplot(x='Family_size', y='Twelfth_marks', data=student_data_cleaned)  \n",
    "plt.title('Relationship between Family Size and Academic Performance')  \n",
    "plt.show()\n"
   ]
  }
 ],
 "metadata": {
  "kernelspec": {
   "display_name": "Python 3",
   "language": "python",
   "name": "python3"
  },
  "language_info": {
   "codemirror_mode": {
    "name": "ipython",
    "version": 3
   },
   "file_extension": ".py",
   "mimetype": "text/x-python",
   "name": "python",
   "nbconvert_exporter": "python",
   "pygments_lexer": "ipython3",
   "version": "3.12.6"
  }
 },
 "nbformat": 4,
 "nbformat_minor": 2
}

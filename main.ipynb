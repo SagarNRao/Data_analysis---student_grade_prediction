{
 "cells": [
  {
   "cell_type": "code",
   "execution_count": null,
   "metadata": {},
   "outputs": [],
   "source": [
    "import pandas as pd\n",
    "from sklearn.model_selection import train_test_split\n",
    "from sklearn.preprocessing import LabelEncoder\n",
    "from sklearn.metrics import mean_absolute_error, mean_squared_error\n",
    "\n",
    "# Load the data\n",
    "file_path = 'student_details_csv.csv'\n",
    "data = pd.read_csv(file_path)\n",
    "\n",
    "# Convert categorical variables to numeric using LabelEncoder\n",
    "label_encoder = LabelEncoder()\n",
    "categorical_columns = ['Gender', 'Income', 'Family_size ', 'Objective', 'Study_pattern', \n",
    "                       'Time_spent_pattern', 'Extra_curricular_activity', 'Paused_resumed']\n",
    "\n",
    "for column in categorical_columns:\n",
    "    data[column] = label_encoder.fit_transform(data[column])\n",
    "\n",
    "# Select relevant features for prediction\n",
    "features = ['Tenth_marks', 'Eleventh_marks', 'Gender', 'Income', 'Family_size ', \n",
    "            'Objective', 'Study_pattern', 'Time_spent_pattern', \n",
    "            'Extra_curricular_activity', 'Paused_resumed']\n",
    "target = 'Twelfth_marks'\n",
    "\n",
    "# Ensure that the feature columns are numeric\n",
    "data[features] = data[features].apply(pd.to_numeric, errors='coerce')\n",
    "\n",
    "# Drop rows with missing values (if any)\n",
    "data.dropna(subset=features + [target], inplace=True)\n",
    "\n",
    "X = data[features]\n",
    "y = data[target]\n",
    "\n",
    "# Split the data into training and testing sets\n",
    "X_train, X_test, y_train, y_test = train_test_split(X, y, test_size=0.2, random_state=45)"
   ]
  },
  {
   "cell_type": "code",
   "execution_count": null,
   "metadata": {},
   "outputs": [],
   "source": [
    "from sklearn.tree import DecisionTreeRegressor\n",
    "from sklearn.metrics import r2_score\n",
    "\n",
    "# Train a Decision Tree Regressor\n",
    "dt_regressor = DecisionTreeRegressor()\n",
    "dt_regressor.fit(X_train, y_train)\n",
    "y_pred_dt = dt_regressor.predict(X_test)\n",
    "\n",
    "# Evaluate the model\n",
    "mae_dt = mean_absolute_error(y_test, y_pred_dt)\n",
    "mse_dt = mean_squared_error(y_test, y_pred_dt)\n",
    "r2_dt = r2_score(y_test, y_pred_dt)\n",
    "\n",
    "print(f'Decision Tree Regressor - \\nMAE: {mae_dt:.4f}\\nMSE: {mse_dt:.4f}\\nR2 Score: {r2_dt:.4f}')"
   ]
  }
 ],
 "metadata": {
  "kernelspec": {
   "display_name": "Python 3",
   "language": "python",
   "name": "python3"
  },
  "language_info": {
   "codemirror_mode": {
    "name": "ipython",
    "version": 3
   },
   "file_extension": ".py",
   "mimetype": "text/x-python",
   "name": "python",
   "nbconvert_exporter": "python",
   "pygments_lexer": "ipython3",
   "version": "3.12.0"
  }
 },
 "nbformat": 4,
 "nbformat_minor": 2
}

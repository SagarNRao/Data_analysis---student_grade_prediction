{
 "cells": [
  {
   "cell_type": "code",
   "execution_count": 45,
   "metadata": {},
   "outputs": [],
   "source": [
    "import pandas as pd\n",
    "from sklearn.model_selection import train_test_split\n",
    "from sklearn.preprocessing import LabelEncoder\n",
    "from sklearn.metrics import mean_absolute_error, mean_squared_error\n",
    "\n",
    "# Load the data\n",
    "file_path = 'C:/Users/sneha/OneDrive/Desktop/college/intern/student_cleaned.csv'\n",
    "data = pd.read_csv(file_path)\n",
    "\n",
    "# Convert categorical variables to numeric using LabelEncoder\n",
    "label_encoder = LabelEncoder()\n",
    "categorical_columns = ['Gender', 'Income', 'Family_size ', 'Objective', 'Study_pattern', \n",
    "                       'Time_spent_pattern', 'Extra_curricular_activity', 'Paused_resumed']\n",
    "\n",
    "for column in categorical_columns:\n",
    "    data[column] = label_encoder.fit_transform(data[column])\n",
    "\n",
    "# Select relevant features for prediction\n",
    "features = ['Tenth_marks', 'Eleventh_marks', 'Gender', 'Income', 'Family_size ', \n",
    "            'Objective', 'Study_pattern', 'Time_spent_pattern', \n",
    "            'Extra_curricular_activity', 'Paused_resumed']\n",
    "target = 'Twelfth_marks'\n",
    "\n",
    "# Ensure that the feature columns are numeric\n",
    "data[features] = data[features].apply(pd.to_numeric, errors='coerce')\n",
    "\n",
    "# Drop rows with missing values (if any)\n",
    "data.dropna(subset=features + [target], inplace=True)\n",
    "\n",
    "X = data[features]\n",
    "y = data[target]\n",
    "\n",
    "# Split the data into training and testing sets\n",
    "X_train, X_test, y_train, y_test = train_test_split(X, y, test_size=0.2, random_state=45)"
   ]
  },
  {
   "cell_type": "code",
   "execution_count": 46,
   "metadata": {},
   "outputs": [
    {
     "name": "stdout",
     "output_type": "stream",
     "text": [
      "Decision Tree Regressor - \n",
      "MAE: 2.6412\n",
      "MSE: 10.8788\n",
      "R2 Score: 0.4703\n"
     ]
    }
   ],
   "source": [
    "from sklearn.tree import DecisionTreeRegressor\n",
    "from sklearn.metrics import r2_score\n",
    "\n",
    "# Train a Decision Tree Regressor\n",
    "dt_regressor = DecisionTreeRegressor()\n",
    "dt_regressor.fit(X_train, y_train)\n",
    "y_pred_dt = dt_regressor.predict(X_test)\n",
    "\n",
    "# Evaluate the model\n",
    "mae_dt = mean_absolute_error(y_test, y_pred_dt)\n",
    "mse_dt = mean_squared_error(y_test, y_pred_dt)\n",
    "r2_dt = r2_score(y_test, y_pred_dt)\n",
    "\n",
    "print(f'Decision Tree Regressor - \\nMAE: {mae_dt:.4f}\\nMSE: {mse_dt:.4f}\\nR2 Score: {r2_dt:.4f}')"
   ]
  },
  {
   "cell_type": "code",
   "execution_count": 47,
   "metadata": {},
   "outputs": [
    {
     "name": "stdout",
     "output_type": "stream",
     "text": [
      "Linear Regressor - \n",
      "MAE: 1.8528\n",
      "MSE: 5.9174\n",
      "R2 Score: 0.7119\n"
     ]
    }
   ],
   "source": [
    "from sklearn.linear_model import LinearRegression\n",
    "from sklearn.metrics import mean_absolute_error, mean_squared_error, r2_score\n",
    "\n",
    "# Train a Linear Regressor\n",
    "lr_regressor = LinearRegression()\n",
    "lr_regressor.fit(X_train, y_train)\n",
    "y_pred_lr = lr_regressor.predict(X_test)\n",
    "\n",
    "# Evaluate the model\n",
    "mae_lr = mean_absolute_error(y_test, y_pred_lr)\n",
    "mse_lr = mean_squared_error(y_test, y_pred_lr)\n",
    "r2_lr = r2_score(y_test, y_pred_lr)\n",
    "\n",
    "print(f'Linear Regressor - \\nMAE: {mae_lr:.4f}\\nMSE: {mse_lr:.4f}\\nR2 Score: {r2_lr:.4f}')"
   ]
  },
  {
   "cell_type": "code",
   "execution_count": 48,
   "metadata": {},
   "outputs": [
    {
     "name": "stdout",
     "output_type": "stream",
     "text": [
      "Random Forest Regressor -\n",
      "MAE: 1.2861\n",
      "MSE: 3.4446\n",
      "R2 Score: 0.8323\n"
     ]
    }
   ],
   "source": [
    "# Import the Random Forest Regressor model\n",
    "from sklearn.ensemble import RandomForestRegressor\n",
    "from sklearn.metrics import r2_score\n",
    "\n",
    "# Create a Random Forest Regressor model\n",
    "rf_model = RandomForestRegressor(n_estimators=100, random_state=42)\n",
    "\n",
    "# Train the model on the training data\n",
    "rf_model.fit(X_train, y_train)\n",
    "\n",
    "# Make predictions on the testing data\n",
    "y_pred = rf_model.predict(X_test)\n",
    "\n",
    "# Evaluate the model using MAE, MSE, and R2 Score\n",
    "mae = mean_absolute_error(y_test, y_pred)\n",
    "mse = mean_squared_error(y_test, y_pred)\n",
    "r2 = r2_score(y_test, y_pred)\n",
    "\n",
    "print('Random Forest Regressor -')\n",
    "print(f'MAE: {mae:.4f}')\n",
    "print(f'MSE: {mse:.4f}')\n",
    "print(f'R2 Score: {r2:.4f}')"
   ]
  },
  {
   "cell_type": "code",
   "execution_count": 49,
   "metadata": {},
   "outputs": [
    {
     "name": "stdout",
     "output_type": "stream",
     "text": [
      "K-Nearest Neighbors Regressor -\n",
      "MAE: 1.4069\n",
      "MSE: 4.9894\n",
      "R2 Score: 0.7570\n"
     ]
    }
   ],
   "source": [
    "# Import the K-Nearest Neighbors Regressor model\n",
    "from sklearn.neighbors import KNeighborsRegressor\n",
    "from sklearn.metrics import r2_score\n",
    "\n",
    "# Create a K-Nearest Neighbors Regressor model\n",
    "knn_model = KNeighborsRegressor(n_neighbors=5)\n",
    "\n",
    "# Train the model on the training data\n",
    "knn_model.fit(X_train, y_train)\n",
    "\n",
    "# Make predictions on the testing data\n",
    "y_pred = knn_model.predict(X_test)\n",
    "\n",
    "# Evaluate the model using MAE, MSE, and R2 Score\n",
    "mae = mean_absolute_error(y_test, y_pred)\n",
    "mse = mean_squared_error(y_test, y_pred)\n",
    "r2 = r2_score(y_test, y_pred)\n",
    "\n",
    "print('K-Nearest Neighbors Regressor -')\n",
    "print(f'MAE: {mae:.4f}')\n",
    "print(f'MSE: {mse:.4f}')\n",
    "print(f'R2 Score: {r2:.4f}')"
   ]
  },
  {
   "cell_type": "code",
   "execution_count": null,
   "metadata": {},
   "outputs": [],
   "source": []
  }
 ],
 "metadata": {
  "kernelspec": {
   "display_name": "Python 3 (ipykernel)",
   "language": "python",
   "name": "python3"
  },
  "language_info": {
   "codemirror_mode": {
    "name": "ipython",
    "version": 3
   },
   "file_extension": ".py",
   "mimetype": "text/x-python",
   "name": "python",
   "nbconvert_exporter": "python",
   "pygments_lexer": "ipython3",
   "version": "3.11.7"
  }
 },
 "nbformat": 4,
 "nbformat_minor": 4
}
